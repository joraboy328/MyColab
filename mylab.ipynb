{
  "nbformat": 4,
  "nbformat_minor": 0,
  "metadata": {
    "colab": {
      "name": "mylab.ipynb",
      "provenance": [],
      "collapsed_sections": [],
      "authorship_tag": "ABX9TyMyWTtjV3pWW7z1gl2uca7j",
      "include_colab_link": true
    },
    "kernelspec": {
      "name": "python3",
      "display_name": "Python 3"
    },
    "language_info": {
      "name": "python"
    }
  },
  "cells": [
    {
      "cell_type": "markdown",
      "metadata": {
        "id": "view-in-github",
        "colab_type": "text"
      },
      "source": [
        "<a href=\"https://colab.research.google.com/github/joraboy328/MyColab/blob/main/mylab.ipynb\" target=\"_parent\"><img src=\"https://colab.research.google.com/assets/colab-badge.svg\" alt=\"Open In Colab\"/></a>"
      ]
    },
    {
      "cell_type": "code",
      "execution_count": 13,
      "metadata": {
        "colab": {
          "base_uri": "https://localhost:8080/",
          "height": 265
        },
        "id": "BYCv517mBXnD",
        "outputId": "200dda88-1da0-4301-d1eb-50d56cdcc8a6"
      },
      "outputs": [
        {
          "output_type": "display_data",
          "data": {
            "image/png": "[encoded data removed]",
            "text/plain": [
              "<Figure size 432x288 with 1 Axes>"
            ]
          },
          "metadata": {
            "needs_background": "light"
          }
        }
      ],
      "source": [
        "import tensorflow as tf\n",
        "import numpy as np\n",
        "import matplotlib.pyplot as plt\n",
        "import math\n",
        "\n",
        "SAMPLES = 1000\n",
        "SEED = 1337\n",
        "\n",
        "np.random.seed(SEED)\n",
        "tf.random.set_seed(SEED)\n",
        "\n",
        "x_value = np.random.uniform(low=0,high=2*math.pi,size=SAMPLES)\n",
        "\n",
        "\n",
        "#np.random.shuffle(x_value)\n",
        "\n",
        "#y_value += 0.1 * np.random.rand(*y_value.shape)\n",
        "y_value = np.sin(x_value)\n",
        "y_value += 0.1 * np.random.rand(*y_value.shape)\n",
        "\n",
        "#print(x_value)\n",
        "plt.plot(x_value,y_value,'b.')\n",
        "plt.show()"
      ]
    },
    {
      "cell_type": "markdown",
      "source": [
        ""
      ],
      "metadata": {
        "id": "dCzpCz3iB902"
      }
    }
  ]
}